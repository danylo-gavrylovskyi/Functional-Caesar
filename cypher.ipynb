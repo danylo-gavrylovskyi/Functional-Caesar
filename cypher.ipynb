{
 "cells": [
  {
   "cell_type": "markdown",
   "metadata": {},
   "source": [
    "Caesar cypher from fifth assignment"
   ]
  },
  {
   "cell_type": "code",
   "execution_count": 4,
   "metadata": {},
   "outputs": [],
   "source": [
    "def encrypt(char: str, key: int) -> chr:\n",
    "    if char.isalpha():\n",
    "        base = 'A' if char.isupper() else 'a'\n",
    "        return chr(((ord(char) - ord(base) + key) % 26) + ord(base))\n",
    "    else:\n",
    "        return chr((ord(char) + key) % 68)\n",
    "\n",
    "def decrypt(char: str, key: int) -> chr:\n",
    "    if char.isalpha():\n",
    "        base = 'A' if char.isupper() else 'a'\n",
    "        return chr(((ord(char) - ord(base) - key + 26) % 26) + ord(base))\n",
    "    else:\n",
    "        return chr((ord(char) - key) % 68)\n",
    "\n",
    "def process_text(text: str, transformation, key: int) -> str:\n",
    "    return ''.join(transformation(char, key) for char in text)\n",
    "\n",
    "def main():\n",
    "    while True:\n",
    "        print(\"Choose the command\\n\\t0. Exit\\n\\t1. Encrypt text\\n\\t2. Decrypt text\")\n",
    "        choice: str = int(input(\">> \"))\n",
    "        \n",
    "        if choice == 0:\n",
    "            break\n",
    "        elif choice in (1, 2):\n",
    "            fileNameToLoad: str = input(\"Enter the file name for loading: \")\n",
    "            fileNameToSave: str = input(\"Enter the file name for saving: \")\n",
    "            key: int = int(input(\"Enter the key: \"))\n",
    "\n",
    "            text: str = open(fileNameToLoad).read()\n",
    "            if choice == 1:\n",
    "                transformation = encrypt\n",
    "            else:\n",
    "                transformation = decrypt\n",
    "            processed_text: str = process_text(text, transformation, key)\n",
    "            open(fileNameToSave, 'w').write(processed_text)\n",
    "\n",
    "            print(f\"Processed text: {processed_text}\")\n",
    "\n",
    "if __name__ == '__main__':\n",
    "    main()\n"
   ]
  },
  {
   "cell_type": "markdown",
   "metadata": {},
   "source": [
    "Manual crypto analysis steps"
   ]
  },
  {
   "cell_type": "code",
   "execution_count": 1,
   "metadata": {},
   "outputs": [
    {
     "data": {
      "image/png": "[encoded data removed]",
      "text/plain": [
       "<Figure size 640x480 with 1 Axes>"
      ]
     },
     "metadata": {},
     "output_type": "display_data"
    }
   ],
   "source": [
    "import matplotlib.pyplot as plt\n",
    "def analyzeManually(encryptedText:str):\n",
    "    letterFrequency = {}\n",
    "    for char in encryptedText:\n",
    "        if char not in letterFrequency:\n",
    "            letterFrequency[char] = 1\n",
    "        else:\n",
    "            letterFrequency[char] += 1\n",
    "\n",
    "    plt.hist(letterFrequency)\n",
    "\n",
    "text: str = open('encrypted.txt').read()\n",
    "analyzeManually(text)"
   ]
  },
  {
   "cell_type": "markdown",
   "metadata": {},
   "source": [
    "Frequency histogram of the letter frequency in the encrypted text"
   ]
  },
  {
   "cell_type": "code",
   "execution_count": 22,
   "metadata": {},
   "outputs": [
    {
     "name": "stdout",
     "output_type": "stream",
     "text": [
      "Decrypted text:  Create a reference frequencies table by using any suitable source (this one, for instance). In order\n",
      "to crack the cipher, you have to check how \"close\" the decrypted text is to the English language.\n",
      "To do so, you need to brute-force the encryption key (26 possible keys) and for each key calculate\n",
      "the difference between the frequency of each letter in the decrypted text and the reference table\n",
      "letter. \n",
      "Possible variants:\n",
      "Create a reference frequencies table by using any suitable source (this one, for instance). In order\n",
      "to crack the cipher, you have to check how \"close\" the decrypted text is to the English language.\n",
      "To do so, you need to brute-force the encryption key (26 possible keys) and for each key calculate\n",
      "the difference between the frequency of each letter in the decrypted text and the reference table\n",
      "letter. \n",
      "\n",
      "Ncplep\u0011l\u0011cpqpcpynp\u0011qcpbfpyntpd\u0011elmwp\u0011mj\u0011fdtyr\u0011lyj\u0011dftelmwp\u0011dzfcnp\u0011\u0019estd\u0011zyp\u001d\u0011qzc\u0011tydelynp\u001a\u001f\u0011Ty\u0011zcopc?ez\u0011nclnv\u0011esp\u0011ntaspc\u001d\u0011jzf\u0011slgp\u0011ez\u0011nspnv\u0011szh\u0011\u0013nwzdp\u0013\u0011esp\u0011opncjaepo\u0011epie\u0011td\u0011ez\u0011esp\u0011Pyrwtds\u0011wlyrflrp\u001f?Ez\u0011oz\u0011dz\u001d\u0011jzf\u0011yppo\u0011ez\u0011mcfep\u001eqzcnp\u0011esp\u0011pyncjaetzy\u0011vpj\u0011\u0019#'\u0011azddtmwp\u0011vpjd\u001a\u0011lyo\u0011qzc\u0011plns\u0011vpj\u0011nlwnfwlep?esp\u0011otqqpcpynp\u0011mpehppy\u0011esp\u0011qcpbfpynj\u0011zq\u0011plns\u0011wpeepc\u0011ty\u0011esp\u0011opncjaepo\u0011epie\u0011lyo\u0011esp\u0011cpqpcpynp\u0011elmwp?wpeepc\u001f\u0011 \n",
      "\n",
      "Zobxqb\u001dx\u001dobcbobkzb\u001dcobnrbkzfbp\u001dqxyib\u001dyv\u001drpfkd\u001dxkv\u001dprfqxyib\u001dplrozb\u001d%qefp\u001dlkb)\u001dclo\u001dfkpqxkzb&+\u001dFk\u001dloabo\u0007ql\u001dzoxzh\u001dqeb\u001dzfmebo)\u001dvlr\u001dexsb\u001dql\u001dzebzh\u001delt\u001d\u001fzilpb\u001f\u001dqeb\u001dabzovmqba\u001dqbuq\u001dfp\u001dql\u001dqeb\u001dBkdifpe\u001dixkdrxdb+\u0007Ql\u001dal\u001dpl)\u001dvlr\u001dkbba\u001dql\u001dyorqb*clozb\u001dqeb\u001dbkzovmqflk\u001dhbv\u001d%/3\u001dmlppfyib\u001dhbvp&\u001dxka\u001dclo\u001dbxze\u001dhbv\u001dzxizrixqb\u0007qeb\u001dafccbobkzb\u001dybqtbbk\u001dqeb\u001dcobnrbkzv\u001dlc\u001dbxze\u001dibqqbo\u001dfk\u001dqeb\u001dabzovmqba\u001dqbuq\u001dxka\u001dqeb\u001dobcbobkzb\u001dqxyib\u0007ibqqbo+\u001d\n"
     ]
    }
   ],
   "source": [
    "from main import decrypt\n",
    "\n",
    "def calculateFrequency(encryptedText:str):\n",
    "    letterFrequency = {}\n",
    "    for char in encryptedText:\n",
    "        if char.isalpha():\n",
    "            char = char.lower()\n",
    "            if char not in letterFrequency:\n",
    "                letterFrequency[char] = 1\n",
    "            else:\n",
    "                letterFrequency[char] += 1\n",
    "    result = {}\n",
    "    for key, value in letterFrequency.items():\n",
    "        result[key] = (value / len(letterFrequency)) * 100\n",
    "    return result\n",
    "\n",
    "def calculateDifference(freq1, freq2):\n",
    "    overallDifference = 0\n",
    "    alphabet: str = 'abcdefghijklmnopqrstuvwxyz'\n",
    "    \n",
    "    for letter in alphabet:\n",
    "        freq1Value = freq1.get(letter, 0)\n",
    "        freq2Value = freq2.get(letter, 0)\n",
    "        charDifference = abs(freq1Value - freq2Value)\n",
    "        overallDifference += charDifference\n",
    "    \n",
    "    difference = overallDifference / len(alphabet)\n",
    "    return difference\n",
    "    \n",
    "def analyzeManually(encryptedText:str):\n",
    "    letterFrequency = calculateFrequency(encryptedText)\n",
    "    shift = ord(max(letterFrequency, key=letterFrequency.get)) - ord('e')\n",
    "    print('Decrypted text: ', ''.join(decrypt(char, shift) for char in encryptedText))\n",
    "    \n",
    "def crackAutomatically(encryptedText:str):\n",
    "    oxfordFrequency = {\n",
    "        'a': 8.4966, 'b': 2.0720, 'c': 4.5388, 'd': 3.3844, 'e': 11.1607,\n",
    "        'f': 1.8121, 'g': 2.4705, 'h': 3.0034, 'i': 7.5448, 'j': 0.1965,\n",
    "        'k': 1.1016, 'l': 5.4893, 'm': 3.0129, 'n': 6.6544, 'o': 7.1635,\n",
    "        'p': 3.1671, 'q': 0.1962, 'r': 7.5809, 's': 5.7351, 't': 6.9509,\n",
    "        'u': 3.6308, 'v': 1.0074, 'w': 1.2899, 'x': 0.2902, 'y': 1.7779, 'z': 0.2722\n",
    "    }\n",
    "\n",
    "    differences = []\n",
    "    for shift in range(26):\n",
    "        decryptedText = ''.join(decrypt(char, shift) for char in encryptedText)\n",
    "        encryptedFrequency = calculateFrequency(decryptedText)\n",
    "        difference = calculateDifference(encryptedFrequency, oxfordFrequency)\n",
    "        differences.append((shift, difference))\n",
    "    differences.sort(key = lambda obj: obj[1])\n",
    "    print(f\"Possible variants:\\n{process_text(encryptedText, decrypt, differences[0][0])}\\n\")\n",
    "    print(process_text(encryptedText, decrypt, differences[1][0]), '\\n')\n",
    "    print(process_text(encryptedText, decrypt, differences[2][0]))\n",
    "\n",
    "def main():\n",
    "    text: str = open('bigDecrypt.txt').read()\n",
    "    analyzeManually(text)\n",
    "    crackAutomatically(text)\n",
    "\n",
    "if __name__ == '__main__':\n",
    "    main()"
   ]
  }
 ],
 "metadata": {
  "kernelspec": {
   "display_name": "Python 3",
   "language": "python",
   "name": "python3"
  },
  "language_info": {
   "codemirror_mode": {
    "name": "ipython",
    "version": 3
   },
   "file_extension": ".py",
   "mimetype": "text/x-python",
   "name": "python",
   "nbconvert_exporter": "python",
   "pygments_lexer": "ipython3",
   "version": "3.10.6"
  }
 },
 "nbformat": 4,
 "nbformat_minor": 2
}
